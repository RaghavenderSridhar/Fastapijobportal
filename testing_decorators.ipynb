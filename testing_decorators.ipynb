{
 "cells": [
  {
   "cell_type": "code",
   "execution_count": 6,
   "id": "bb0081ff",
   "metadata": {},
   "outputs": [],
   "source": [
    "import pandas as pd\n",
    "import random\n",
    "from functools import wraps"
   ]
  },
  {
   "cell_type": "code",
   "execution_count": 24,
   "id": "6d97d74d",
   "metadata": {},
   "outputs": [
    {
     "name": "stdout",
     "output_type": "stream",
     "text": [
      "1\n",
      "\n",
      "    arg:\n",
      "        power of\n",
      "        \n",
      "    return:\n",
      "        function\n",
      "    \n"
     ]
    }
   ],
   "source": [
    "def power_of(arg):\n",
    "    \n",
    "    def decorator(func):\n",
    "        \n",
    "        @wraps(func)\n",
    "        def inner():\n",
    "            \n",
    "            return func() ** exponent\n",
    "        return inner\n",
    "    \n",
    "    if callable(arg):\n",
    "        exponent = 3\n",
    "        return decorator(arg)\n",
    "    \n",
    "    else :\n",
    "        exponent = arg\n",
    "        return decorator\n",
    "        \n",
    "\n",
    "\n",
    "@power_of(3)\n",
    "def get_power_of():\n",
    "    \n",
    "    \"\"\"\n",
    "    arg:\n",
    "        power of\n",
    "        \n",
    "    return:\n",
    "        function\n",
    "    \"\"\"\n",
    "    \n",
    "    return random.choice([1,2,4,5,6])\n",
    "\n",
    "print(get_power_of())\n",
    "print(get_power_of.__doc__)"
   ]
  }
 ],
 "metadata": {
  "kernelspec": {
   "display_name": "my-virtualenv-fastapienv2",
   "language": "python",
   "name": "my-virtualenv-fastapienv2"
  },
  "language_info": {
   "codemirror_mode": {
    "name": "ipython",
    "version": 3
   },
   "file_extension": ".py",
   "mimetype": "text/x-python",
   "name": "python",
   "nbconvert_exporter": "python",
   "pygments_lexer": "ipython3",
   "version": "3.9.6"
  }
 },
 "nbformat": 4,
 "nbformat_minor": 5
}
