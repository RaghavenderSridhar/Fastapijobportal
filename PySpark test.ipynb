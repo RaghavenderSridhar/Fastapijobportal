{
 "cells": [
  {
   "cell_type": "code",
   "execution_count": 1,
   "id": "b5bebe54",
   "metadata": {},
   "outputs": [],
   "source": [
    "\n",
    "import os\n",
    "import pyspark"
   ]
  },
  {
   "cell_type": "code",
   "execution_count": 2,
   "id": "7b41a347",
   "metadata": {},
   "outputs": [
    {
     "name": "stderr",
     "output_type": "stream",
     "text": [
      "                                                                                \r"
     ]
    },
    {
     "data": {
      "text/plain": [
       "[1, 3, 5, 7, 9]"
      ]
     },
     "execution_count": 2,
     "metadata": {},
     "output_type": "execute_result"
    }
   ],
   "source": [
    "big_list = range(10000)\n",
    "rdd = sc.parallelize(big_list, 2)\n",
    "odds = rdd.filter(lambda x: x % 2 != 0)\n",
    "odds.take(5)"
   ]
  },
  {
   "cell_type": "code",
   "execution_count": null,
   "id": "e12a518e",
   "metadata": {},
   "outputs": [],
   "source": []
  },
  {
   "cell_type": "code",
   "execution_count": 3,
   "id": "3fa82088",
   "metadata": {},
   "outputs": [
    {
     "data": {
      "text/plain": [
       "[4, 10, 9]"
      ]
     },
     "execution_count": 3,
     "metadata": {},
     "output_type": "execute_result"
    }
   ],
   "source": [
    "\n",
    "# from pyspark import SparkContext\n",
    "# sc = SparkContext()\n",
    "n = sc.parallelize([4,10,9,7])\n",
    "n.take(3)"
   ]
  },
  {
   "cell_type": "code",
   "execution_count": 5,
   "id": "06184201",
   "metadata": {},
   "outputs": [
    {
     "name": "stdout",
     "output_type": "stream",
     "text": [
      "Requirement already satisfied: pytest in ./fastapienv/lib/python3.9/site-packages (6.2.3)\n",
      "Requirement already satisfied: iniconfig in ./fastapienv/lib/python3.9/site-packages (from pytest) (1.1.1)\n",
      "Requirement already satisfied: toml in ./fastapienv/lib/python3.9/site-packages (from pytest) (0.10.2)\n",
      "Requirement already satisfied: py>=1.8.2 in ./fastapienv/lib/python3.9/site-packages (from pytest) (1.10.0)\n",
      "Requirement already satisfied: pluggy<1.0.0a1,>=0.12 in ./fastapienv/lib/python3.9/site-packages (from pytest) (0.13.1)\n",
      "Requirement already satisfied: packaging in ./fastapienv/lib/python3.9/site-packages (from pytest) (20.9)\n",
      "Requirement already satisfied: attrs>=19.2.0 in ./fastapienv/lib/python3.9/site-packages (from pytest) (21.2.0)\n",
      "Requirement already satisfied: pyparsing>=2.0.2 in ./fastapienv/lib/python3.9/site-packages (from packaging->pytest) (2.4.7)\n",
      "\u001b[33mWARNING: You are using pip version 21.2.1; however, version 21.2.2 is available.\n",
      "You should consider upgrading via the '/Users/raghavendersridhar/ds/fastapienv/bin/python -m pip install --upgrade pip' command.\u001b[0m\n"
     ]
    }
   ],
   "source": [
    "!pip install pytest"
   ]
  },
  {
   "cell_type": "code",
   "execution_count": 7,
   "id": "112f753e",
   "metadata": {},
   "outputs": [
    {
     "ename": "ModuleNotFoundError",
     "evalue": "No module named 'pytest'",
     "output_type": "error",
     "traceback": [
      "\u001b[0;31m---------------------------------------------------------------------------\u001b[0m",
      "\u001b[0;31mModuleNotFoundError\u001b[0m                       Traceback (most recent call last)",
      "\u001b[0;32m/var/folders/mk/tgs5717j2t579c_dfp9wq3v00000gn/T/ipykernel_21452/1310145501.py\u001b[0m in \u001b[0;36m<module>\u001b[0;34m\u001b[0m\n\u001b[0;32m----> 1\u001b[0;31m \u001b[0;32mimport\u001b[0m \u001b[0mpytest\u001b[0m\u001b[0;34m\u001b[0m\u001b[0;34m\u001b[0m\u001b[0m\n\u001b[0m\u001b[1;32m      2\u001b[0m \u001b[0;34m\u001b[0m\u001b[0m\n",
      "\u001b[0;31mModuleNotFoundError\u001b[0m: No module named 'pytest'"
     ]
    }
   ],
   "source": [
    "import pytest\n",
    "\n"
   ]
  }
 ],
 "metadata": {
  "kernelspec": {
   "display_name": "Python 3 (ipykernel)",
   "language": "python",
   "name": "python3"
  },
  "language_info": {
   "codemirror_mode": {
    "name": "ipython",
    "version": 3
   },
   "file_extension": ".py",
   "mimetype": "text/x-python",
   "name": "python",
   "nbconvert_exporter": "python",
   "pygments_lexer": "ipython3",
   "version": "3.9.6"
  }
 },
 "nbformat": 4,
 "nbformat_minor": 5
}
